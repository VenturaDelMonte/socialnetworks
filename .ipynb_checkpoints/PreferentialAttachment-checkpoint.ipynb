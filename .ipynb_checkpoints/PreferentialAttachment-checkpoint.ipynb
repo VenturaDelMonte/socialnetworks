{
 "cells": [
  {
   "cell_type": "code",
   "execution_count": 1,
   "metadata": {
    "collapsed": true
   },
   "outputs": [],
   "source": [
    "from direct_graph import DirectGraph\n",
    "from direct_graph import topk\n",
    "import sys\n",
    "import matplotlib.pyplot as plt\n",
    "import random\n",
    "from datetime import datetime\n",
    "import time\n",
    "\n",
    "\n",
    "def Run_LTM(graph, seeds, rounds, centrality):\n",
    "\tv, e = graph.size()\n",
    "\tprint(\"* running LTM({}) TOP {} {} - graph size: {} {}\".format(rounds, len(seeds), centrality, v, e))\n",
    "\tinfluenced, kept, steps = graph.ltm(seeds, rounds)\n",
    "\tprint(\"** influenced(%d) kept(%d) steps(%d)\" % (len(influenced), len(kept), steps))\n",
    "\treturn len(influenced), len(kept), steps"
   ]
  },
  {
   "cell_type": "code",
   "execution_count": 2,
   "metadata": {
    "collapsed": true
   },
   "outputs": [],
   "source": [
    "random.seed(datetime.now())\t\n",
    "\n",
    "seed = 100\n",
    "\n",
    "lin_max_values = []\n",
    "eigenc_max_values = []\n",
    "bet_max_values = []"
   ]
  },
  {
   "cell_type": "code",
   "execution_count": 3,
   "metadata": {
    "collapsed": false
   },
   "outputs": [
    {
     "name": "stdout",
     "output_type": "stream",
     "text": [
      "# Edges = 111174\tAverage Clustering = 0.113027\n"
     ]
    }
   ],
   "source": [
    "rounds = 10\n",
    "NODES = 7115\n",
    "min_edges = 75000\n",
    "max_edges = 125000\n",
    "incr = 0.001\n",
    "p = 0.4 # probability\n",
    "seed = 100\n",
    "d = int(random.randint(min_edges, max_edges) / NODES)\n",
    "\n",
    "graph = DirectGraph.preferentialAttachment(NODES, d, p)\n",
    "\n",
    "print('# Edges = %d\\tAverage Clustering = %f' % (graph.countEdges(), graph.average_clustering()))\n",
    "sys.stdout.flush()"
   ]
  },
  {
   "cell_type": "code",
   "execution_count": 5,
   "metadata": {
    "collapsed": false
   },
   "outputs": [
    {
     "name": "stdout",
     "output_type": "stream",
     "text": [
      "# Eigenvector Centrality...\n",
      "[6994, 7094, 6464, 6986, 6602, 7008, 6851, 6684, 6493, 7074, 6981, 6698, 6705, 6946, 6366, 6976, 6471, 6533, 6474, 6709, 7070, 7046, 6852, 7018, 6813, 6971, 7072, 5985, 6917, 6877, 6604, 6447, 7114, 6900, 6234, 6983, 6712, 6668, 7048, 6699, 6996, 6310, 6372, 6428, 6920, 6693, 6358, 6842, 7050, 6714, 6978, 6879, 6625, 6966, 6808, 6477, 6500, 7076, 6956, 6146, 6883, 6569, 6937, 7071, 6991, 6951, 6844, 6589, 6775, 6473, 5901, 6357, 6833, 6973, 5845, 5448, 6871, 6506, 6079, 5586, 6192, 6965, 6588, 6284, 6378, 6269, 7092, 6463, 5881, 6201, 6916, 6977, 6488, 5570, 7036, 7081, 5813, 6630, 7059, 6012]\n",
      "# Done\n"
     ]
    }
   ],
   "source": [
    "print('# Eigenvector Centrality...')\n",
    "diffsum, cscores = graph.eigenvector_centrality()\n",
    "# print(diffsum)\n",
    "# print(cscores)\n",
    "top_eigenc = [a for a, b in topk(cscores, seed)]\n",
    "print(top_eigenc)\n",
    "print('# Done')\n",
    "sys.stdout.flush()"
   ]
  },
  {
   "cell_type": "code",
   "execution_count": 6,
   "metadata": {
    "collapsed": false
   },
   "outputs": [
    {
     "name": "stdout",
     "output_type": "stream",
     "text": [
      "# Betweennes centrality...\n",
      "[3399, 3347, 3345, 1800, 2038, 1980, 1978, 2108, 1432, 3197, 1995, 1841, 3448, 2650, 1528, 2528, 2329, 3434, 3341, 3306, 1748, 1476, 1087, 3171, 2465, 1520, 1346, 2062, 2696, 2586, 2185, 2050, 2221, 2925, 2747, 2056, 1436, 1082, 1966, 2267, 1850, 1675, 1547, 2000, 3237, 2053, 1604, 1762, 1558, 2924, 1781, 2057, 1835, 2485, 1261, 2028, 1743, 1265, 1868, 1955, 929, 1055, 2043, 1976, 1147, 2791, 1274, 1834, 2879, 1433, 1777, 1877, 3476, 1669, 2907, 1793, 1606, 2494, 1549, 2270, 1991, 2137, 2014, 2171, 2022, 1752, 2508, 1077, 3972, 3134, 3410, 1272, 1812, 2268, 2867, 3194, 1706, 1488, 1414, 2717]\n",
      "# Done\n"
     ]
    }
   ],
   "source": [
    "print('# Betweennes centrality...')\n",
    "bet = graph.betweenness()\n",
    "# print(bet)\n",
    "top_bet = [a for a, b in topk(bet, seed)]\n",
    "print(top_bet)\n",
    "print('# Done')\n",
    "sys.stdout.flush()"
   ]
  },
  {
   "cell_type": "code",
   "execution_count": 7,
   "metadata": {
    "collapsed": false
   },
   "outputs": [
    {
     "name": "stdout",
     "output_type": "stream",
     "text": [
      "# Lin's index...\n",
      "[0, 2, 1, 3, 4, 5, 12, 6, 11, 9, 8, 32, 17, 13, 21, 15, 16, 20, 14, 24, 19, 40, 25, 10, 7, 28, 26, 39, 42, 61, 34, 31, 29, 36, 59, 53, 23, 27, 33, 38, 37, 35, 62, 50, 57, 44, 76, 46, 49, 18, 43, 30, 70, 54, 22, 66, 63, 41, 87, 47, 115, 60, 45, 58, 94, 52, 64, 75, 74, 48, 69, 83, 65, 130, 68, 84, 93, 103, 78, 56, 79, 77, 89, 111, 80, 102, 71, 72, 106, 114, 101, 86, 128, 137, 122, 105, 55, 96, 67, 97]\n",
      "# Done\n"
     ]
    }
   ],
   "source": [
    "print(\"# Lin's index...\")\n",
    "lin = graph.lin_index()\n",
    "#print(lin)\n",
    "top_lin = [a for a, b in topk(lin, seed)]\n",
    "print(top_lin)\n",
    "print('# Done')\n",
    "sys.stdout.flush()"
   ]
  },
  {
   "cell_type": "code",
   "execution_count": 8,
   "metadata": {
    "collapsed": false
   },
   "outputs": [
    {
     "name": "stdout",
     "output_type": "stream",
     "text": [
      "* running LTM(10) TOP 100 Lin - graph size: 7115 111174\n",
      "** influenced(7115) kept(0) steps(2)\n",
      "* running LTM(10) TOP 100 Eigenvector - graph size: 7115 111174\n",
      "** influenced(100) kept(7015) steps(0)\n",
      "* running LTM(10) TOP 100 Betweenness - graph size: 7115 111174\n",
      "** influenced(4110) kept(3005) steps(8)\n"
     ]
    }
   ],
   "source": [
    "max_lin_influenced = Run_LTM(graph, top_lin[:seed], rounds, 'Lin')[0]\n",
    "max_eigenc_influenced = Run_LTM(graph, top_eigenc[:seed], rounds, 'Eigenvector')[0]\n",
    "max_bet_influenced = Run_LTM(graph, top_bet[:seed], rounds, 'Betweenness')[0]\n",
    "lin_max_seed = seed\n",
    "eigenc_max_seed = seed\n",
    "bet_max_seed = seed"
   ]
  },
  {
   "cell_type": "code",
   "execution_count": 9,
   "metadata": {
    "collapsed": false
   },
   "outputs": [
    {
     "name": "stdout",
     "output_type": "stream",
     "text": [
      "* running LTM(10) TOP 95 Lin - graph size: 7115 111174\n",
      "** influenced(7115) kept(0) steps(2)\n",
      "* running LTM(10) TOP 90 Lin - graph size: 7115 111174\n",
      "** influenced(7115) kept(0) steps(2)\n",
      "* running LTM(10) TOP 85 Lin - graph size: 7115 111174\n",
      "** influenced(7115) kept(0) steps(2)\n",
      "* running LTM(10) TOP 80 Lin - graph size: 7115 111174\n",
      "** influenced(7115) kept(0) steps(2)\n",
      "* running LTM(10) TOP 75 Lin - graph size: 7115 111174\n",
      "** influenced(7115) kept(0) steps(2)\n",
      "* running LTM(10) TOP 70 Lin - graph size: 7115 111174\n",
      "** influenced(7115) kept(0) steps(2)\n",
      "* running LTM(10) TOP 65 Lin - graph size: 7115 111174\n",
      "** influenced(7115) kept(0) steps(2)\n",
      "* running LTM(10) TOP 60 Lin - graph size: 7115 111174\n",
      "** influenced(7115) kept(0) steps(2)\n",
      "* running LTM(10) TOP 55 Lin - graph size: 7115 111174\n",
      "** influenced(7115) kept(0) steps(2)\n",
      "* running LTM(10) TOP 50 Lin - graph size: 7115 111174\n",
      "** influenced(7115) kept(0) steps(2)\n",
      "* running LTM(10) TOP 45 Lin - graph size: 7115 111174\n",
      "** influenced(7115) kept(0) steps(2)\n",
      "* running LTM(10) TOP 40 Lin - graph size: 7115 111174\n",
      "** influenced(7115) kept(0) steps(2)\n",
      "* running LTM(10) TOP 35 Lin - graph size: 7115 111174\n",
      "** influenced(7115) kept(0) steps(2)\n",
      "* running LTM(10) TOP 30 Lin - graph size: 7115 111174\n",
      "** influenced(7115) kept(0) steps(2)\n",
      "* running LTM(10) TOP 25 Lin - graph size: 7115 111174\n",
      "** influenced(7115) kept(0) steps(2)\n",
      "* running LTM(10) TOP 20 Lin - graph size: 7115 111174\n",
      "** influenced(7115) kept(0) steps(2)\n",
      "* running LTM(10) TOP 15 Lin - graph size: 7115 111174\n",
      "** influenced(7115) kept(0) steps(2)\n",
      "* running LTM(10) TOP 10 Lin - graph size: 7115 111174\n",
      "** influenced(7115) kept(0) steps(2)\n",
      "* running LTM(10) TOP 5 Lin - graph size: 7115 111174\n",
      "** influenced(7115) kept(0) steps(3)\n",
      "* running LTM(10) TOP 0 Lin - graph size: 7115 111174\n",
      "** influenced(0) kept(7115) steps(0)\n"
     ]
    }
   ],
   "source": [
    "while seed > 0:\n",
    "    seed -= 5\n",
    "    influenced_lin = Run_LTM(graph, top_lin[:seed], rounds, 'Lin')[0]\n",
    "    if max_lin_influenced <= influenced_lin:\n",
    "        max_lin_influenced = influenced_lin\n",
    "        lin_max_seed = seed\n",
    "    else:\n",
    "        break"
   ]
  },
  {
   "cell_type": "code",
   "execution_count": 10,
   "metadata": {
    "collapsed": false
   },
   "outputs": [
    {
     "name": "stdout",
     "output_type": "stream",
     "text": [
      "* running LTM(10) TOP 95 Eigenvector - graph size: 7115 111174\n",
      "** influenced(95) kept(7020) steps(0)\n"
     ]
    }
   ],
   "source": [
    "seed = 100\n",
    "while seed > 0:\n",
    "    seed -= 5\n",
    "    influenced_eigenc = Run_LTM(graph, top_eigenc[:seed], rounds, 'Eigenvector')[0]\n",
    "    if max_eigenc_influenced <= influenced_eigenc:\n",
    "        max_eigenc_influenced = influenced_eigenc\n",
    "        eigenc_max_seed = seed\n",
    "    else:\n",
    "        break"
   ]
  },
  {
   "cell_type": "code",
   "execution_count": 11,
   "metadata": {
    "collapsed": false
   },
   "outputs": [
    {
     "name": "stdout",
     "output_type": "stream",
     "text": [
      "* running LTM(10) TOP 95 Betweenness - graph size: 7115 111174\n",
      "** influenced(3760) kept(3355) steps(8)\n"
     ]
    }
   ],
   "source": [
    "seed = 100\n",
    "while seed > 0:\n",
    "    seed -= 5\n",
    "    influenced_bet = Run_LTM(graph, top_bet[:seed], rounds, 'Betweenness')[0]\n",
    "    if max_bet_influenced <= influenced_bet:\n",
    "        max_bet_influenced = influenced_bet\n",
    "        bet_max_seed = seed\n",
    "    else:\n",
    "        break"
   ]
  },
  {
   "cell_type": "code",
   "execution_count": 12,
   "metadata": {
    "collapsed": true
   },
   "outputs": [],
   "source": [
    "%matplotlib inline"
   ]
  },
  {
   "cell_type": "code",
   "execution_count": 13,
   "metadata": {
    "collapsed": false
   },
   "outputs": [
    {
     "data": {
      "image/png": "[encoded data removed]",
      "text/plain": [
       "<matplotlib.figure.Figure at 0x23a920a1b38>"
      ]
     },
     "metadata": {},
     "output_type": "display_data"
    }
   ],
   "source": [
    "fig, ax = plt.subplots()\n",
    "\n",
    "bar_width = 0.35\n",
    "\n",
    "opacity = 0.4\n",
    "\n",
    "rects1 = plt.bar(1, max_lin_influenced, width=bar_width, alpha=opacity, color='b', label='Lin')\n",
    "\n",
    "rects2 = plt.bar(2, max_eigenc_influenced, width=bar_width, alpha=opacity, color='r', label='Eigenvector')\n",
    "\n",
    "rects3 = plt.bar(3, max_bet_influenced, width=bar_width, alpha=opacity, color='y', label='Betweenness')\n",
    "\n",
    "plt.xlabel('Centrality Measures')\n",
    "plt.ylabel('Influenced')\n",
    "plt.title('Influenced Comparison')\n",
    "plt.xticks([1.2,2.2,3.2], ('L', 'E', 'B'))\n",
    "\n",
    "plt.legend(bbox_to_anchor=(1.05, 1), loc=2, borderaxespad=0.)\n",
    "\n",
    "plt.tight_layout()\n",
    "\n",
    "plt.savefig('pa.png')"
   ]
  },
  {
   "cell_type": "code",
   "execution_count": null,
   "metadata": {
    "collapsed": true
   },
   "outputs": [],
   "source": []
  }
 ],
 "metadata": {
  "kernelspec": {
   "display_name": "Python 3",
   "language": "python",
   "name": "python3"
  },
  "language_info": {
   "codemirror_mode": {
    "name": "ipython",
    "version": 3
   },
   "file_extension": ".py",
   "mimetype": "text/x-python",
   "name": "python",
   "nbconvert_exporter": "python",
   "pygments_lexer": "ipython3",
   "version": "3.5.1"
  }
 },
 "nbformat": 4,
 "nbformat_minor": 0
}
