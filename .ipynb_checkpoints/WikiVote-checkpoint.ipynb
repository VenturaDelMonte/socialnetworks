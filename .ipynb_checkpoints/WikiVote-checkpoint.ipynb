{
 "cells": [
  {
   "cell_type": "markdown",
   "metadata": {},
   "source": [
    "Wiki-Vote"
   ]
  },
  {
   "cell_type": "code",
   "execution_count": 1,
   "metadata": {
    "collapsed": false
   },
   "outputs": [],
   "source": [
    "from directed_graph import DirectedGraph\n",
    "from directed_graph import topk\n",
    "import sys\n",
    "import matplotlib.pyplot as plt\n",
    "\n",
    "def Run_LTM(graph, seeds, rounds, centrality):\n",
    "\tv, e = graph.size()\n",
    "\tprint(\"* running LTM({}) TOP {} {} - graph size: {} {}\".format(rounds, len(seeds), centrality, v, e))\n",
    "\tinfluenced, kept, steps = graph.ltm(seeds, rounds)\n",
    "\tprint(\"** influenced(%d) kept(%d) steps(%d)\" % (len(influenced), len(kept), steps))\n",
    "\treturn len(influenced), len(kept), steps"
   ]
  },
  {
   "cell_type": "code",
   "execution_count": 2,
   "metadata": {
    "collapsed": false
   },
   "outputs": [
    {
     "name": "stdout",
     "output_type": "stream",
     "text": [
      "# Edges = 103689\tAverage Clustering = 0.140898\n"
     ]
    }
   ],
   "source": [
    "if __name__ == '__main__':\n",
    "    \n",
    "    rounds = 10\n",
    "    seed = 100\n",
    "    graph = DirectedGraph.from_filename('wiki-Vote.txt')\n",
    "    nodes, edges = graph.size()\n",
    "\n",
    "    print('# Edges = %d\\tAverage Clustering = %f' % (graph.countEdges(), graph.toUndirect().average_clustering()))\n",
    "    sys.stdout.flush()"
   ]
  },
  {
   "cell_type": "code",
   "execution_count": 3,
   "metadata": {
    "collapsed": false
   },
   "outputs": [
    {
     "name": "stdout",
     "output_type": "stream",
     "text": [
      "# Eigenvector Centrality...\n",
      "[2565, 766, 1549, 1166, 2688, 457, 3352, 11, 1151, 1374, 2485, 3456, 2871, 2328, 5524, 737, 2237, 2398, 2651, 3453, 2972, 1133, 5079, 4310, 2576, 1608, 4037, 1305, 1297, 2145, 3447, 4712, 5189, 15, 4099, 789, 2297, 3026, 2658, 4967, 3449, 2326, 2790, 762, 813, 311, 2625, 825, 988, 2256, 2653, 3787, 2660, 3089, 5697, 2967, 2535, 4191, 722, 5802, 3614, 2713, 3642, 2066, 2693, 3568, 2654, 72, 2411, 4828, 3976, 68, 2135, 5022, 993, 5179, 3454, 3796, 996, 1972, 3615, 1496, 24, 3459, 3028, 5188, 5254, 3394, 5543, 4335, 1542, 5412, 4536, 1098, 122, 3641, 2323, 2240, 2859, 2700]\n",
      "# Done\n"
     ]
    }
   ],
   "source": [
    "    print('# Eigenvector Centrality...')\n",
    "    diffsum, cscores = graph.eigenvector_centrality()\n",
    "    # print(diffsum)\n",
    "    # print(cscores)\n",
    "    top_eigenc = [a for a, b in topk(cscores, seed)]\n",
    "    print(top_eigenc)\n",
    "    print('# Done')\n",
    "    sys.stdout.flush()"
   ]
  },
  {
   "cell_type": "code",
   "execution_count": 4,
   "metadata": {
    "collapsed": false
   },
   "outputs": [
    {
     "name": "stdout",
     "output_type": "stream",
     "text": [
      "# Betweennes centrality...\n",
      "[2565, 11, 457, 4037, 1549, 766, 1166, 15, 1374, 2237, 1151, 2688, 2328, 2470, 737, 1186, 5524, 72, 3352, 2625, 5079, 789, 2398, 2485, 5254, 1133, 2871, 2654, 214, 4191, 28, 1608, 6, 8293, 2972, 762, 600, 407, 665, 2658, 6774, 3456, 4310, 2535, 3453, 2651, 311, 5022, 2576, 1297, 5802, 173, 68, 2285, 24, 4828, 1098, 5189, 2256, 722, 3334, 4875, 36, 86, 3976, 6634, 7620, 5179, 3447, 4261, 1305, 306, 1542, 1026, 3642, 993, 5697, 4099, 5543, 996, 3028, 6327, 5800, 4967, 7553, 87, 4335, 7092, 3586, 1842, 4712, 3459, 988, 1717, 3089, 5210, 5484, 319, 310, 825]\n",
      "# Done\n"
     ]
    }
   ],
   "source": [
    "    print('# Betweennes centrality...')\n",
    "    bet, D = graph.betweennessEx()\n",
    "    # print(bet)\n",
    "    top_bet = [a for a, b in topk(bet, seed)]\n",
    "    print(top_bet)\n",
    "    print('# Done')\n",
    "    sys.stdout.flush()"
   ]
  },
  {
   "cell_type": "code",
   "execution_count": 5,
   "metadata": {
    "collapsed": false
   },
   "outputs": [
    {
     "name": "stdout",
     "output_type": "stream",
     "text": [
      "# Lin's index...\n",
      "[2565, 766, 457, 1549, 1166, 1374, 11, 1151, 2688, 2485, 3352, 5524, 2328, 737, 1133, 3456, 2871, 68, 789, 1608, 15, 3453, 2651, 311, 4310, 72, 4037, 5079, 2237, 2972, 722, 2398, 2576, 3787, 2145, 600, 3447, 24, 5189, 1055, 1542, 36, 996, 173, 2658, 4712, 5697, 5802, 87, 1305, 825, 2240, 2535, 4099, 813, 2256, 1098, 2693, 1297, 762, 1496, 988, 2790, 2135, 5022, 3976, 2297, 2660, 784, 4828, 5254, 3026, 4967, 5179, 1210, 3642, 5543, 993, 2381, 3089, 2369, 3614, 3084, 3459, 3568, 3028, 3631, 3449, 1701, 4335, 3454, 127, 319, 4632, 407, 3334, 2323, 5002, 4191, 3641]\n",
      "# Done\n"
     ]
    }
   ],
   "source": [
    "\tprint(\"# Lin's index...\")\n",
    "\tlin = graph.lin_index(D)\n",
    "\t#print(lin)\n",
    "\ttop_lin = [a for a, b in topk(lin, seed)]\n",
    "\tprint(top_lin)\n",
    "\tprint('# Done')\n",
    "\tsys.stdout.flush()"
   ]
  },
  {
   "cell_type": "code",
   "execution_count": 15,
   "metadata": {
    "collapsed": false
   },
   "outputs": [
    {
     "name": "stdout",
     "output_type": "stream",
     "text": [
      "* running LTM(10) TOP 100 Lin - graph size: 7115 103689\n",
      "** influenced(5841) kept(1274) steps(4)\n",
      "* running LTM(10) TOP 100 Eigenvector - graph size: 7115 103689\n",
      "** influenced(5783) kept(1332) steps(4)\n",
      "* running LTM(10) TOP 100 Betweenness - graph size: 7115 103689\n",
      "** influenced(5799) kept(1316) steps(5)\n",
      "* running LTM(10) TOP 95 Lin - graph size: 7115 103689\n",
      "** influenced(5729) kept(1386) steps(4)\n",
      "* running LTM(10) TOP 95 Eigenvector - graph size: 7115 103689\n",
      "** influenced(5706) kept(1409) steps(4)\n",
      "* running LTM(10) TOP 95 Betweenness - graph size: 7115 103689\n",
      "** influenced(5835) kept(1280) steps(4)\n",
      "* running LTM(10) TOP 90 Betweenness - graph size: 7115 103689\n",
      "** influenced(5875) kept(1240) steps(4)\n",
      "* running LTM(10) TOP 85 Betweenness - graph size: 7115 103689\n",
      "** influenced(5781) kept(1334) steps(3)\n"
     ]
    }
   ],
   "source": [
    "    seed = 100\n",
    "    max_lin_influenced, _, lin_rounds = Run_LTM(graph, top_lin[:seed], rounds, 'Lin')\n",
    "    max_eigenc_influenced, _, eigenc_rounds = Run_LTM(graph, top_eigenc[:seed], rounds, 'Eigenvector')\n",
    "    max_bet_influenced, _, bet_rounds = Run_LTM(graph, top_bet[:seed], rounds, 'Betweenness')\n",
    "    lin_max_seed = seed\n",
    "    eigenc_max_seed = seed\n",
    "    bet_max_seed = seed\n",
    "\n",
    "    while seed > 0 and max_lin_influenced < nodes:\n",
    "        seed -= 5\n",
    "        influenced_lin, _, _rounds = Run_LTM(graph, top_lin[:seed], rounds, 'Lin')\n",
    "        if max_lin_influenced <= influenced_lin:\n",
    "            max_lin_influenced = influenced_lin\n",
    "            lin_max_seed = seed\n",
    "            lin_rounds = _rounds\n",
    "        else:\n",
    "            break\n",
    "\n",
    "    seed = 100\n",
    "    while seed > 0 and max_eigenc_influenced < nodes:\n",
    "        seed -= 5\n",
    "        influenced_eigenc, _, _rounds = Run_LTM(graph, top_eigenc[:seed], rounds, 'Eigenvector')\n",
    "        if max_eigenc_influenced <= influenced_eigenc:\n",
    "            max_eigenc_influenced = influenced_eigenc\n",
    "            eigenc_max_seed = seed\n",
    "            eigenc_rounds = _rounds\n",
    "        else:\n",
    "            break\n",
    "\n",
    "    seed = 100\n",
    "    while seed > 0 and max_bet_influenced < nodes:\n",
    "        seed -= 5\n",
    "        influenced_bet, _, _rounds= Run_LTM(graph, top_bet[:seed], rounds, 'Betweenness')\n",
    "        if max_bet_influenced <= influenced_bet:\n",
    "            max_bet_influenced = influenced_bet\n",
    "            bet_max_seed = seed\n",
    "            bet_rounds = _rounds\n",
    "        else:\n",
    "            break"
   ]
  },
  {
   "cell_type": "code",
   "execution_count": 17,
   "metadata": {
    "collapsed": false
   },
   "outputs": [
    {
     "name": "stdout",
     "output_type": "stream",
     "text": [
      "Lin's Index: influenced=5841 seeds=100 rounds=4\n",
      "BC: influenced=5875 seeds=90 rounds=4\n",
      "E: influenced=5783 seeds=100 rounds=4\n"
     ]
    }
   ],
   "source": [
    "print(\"Lin's Index: influenced={} seeds={} rounds={}\".format(max_lin_influenced,lin_max_seed,lin_rounds))\n",
    "print(\"BC: influenced={} seeds={} rounds={}\".format(max_bet_influenced,bet_max_seed,bet_rounds))\n",
    "print(\"E: influenced={} seeds={} rounds={}\".format(max_eigenc_influenced,eigenc_max_seed,eigenc_rounds))"
   ]
  },
  {
   "cell_type": "code",
   "execution_count": null,
   "metadata": {
    "collapsed": true
   },
   "outputs": [],
   "source": [
    "%matplotlib inline"
   ]
  },
  {
   "cell_type": "code",
   "execution_count": null,
   "metadata": {
    "collapsed": false
   },
   "outputs": [],
   "source": [
    "    fig, ax = plt.subplots()\n",
    "\n",
    "    bar_width = 0.35\n",
    "\n",
    "    opacity = 0.4\n",
    "\n",
    "    rects1 = plt.bar(1, max_lin_influenced, width=bar_width, alpha=opacity, color='b', label='Lin')\n",
    "\n",
    "    rects2 = plt.bar(2, max_eigenc_influenced, width=bar_width, alpha=opacity, color='r', label='Eigenvector')\n",
    "\n",
    "    rects3 = plt.bar(3, max_bet_influenced, width=bar_width, alpha=opacity, color='y', label='Betweenness')\n",
    "\n",
    "    plt.xlabel('Centrality Measures')\n",
    "    plt.ylabel('Influenced')\n",
    "    plt.title('Influenced Comparison')\n",
    "    plt.xticks([1.2,2.2,3.2], ('L', 'E', 'B'))\n",
    "\n",
    "    plt.legend(bbox_to_anchor=(1.05, 1), loc=2, borderaxespad=0.)\n",
    "\n",
    "    plt.tight_layout()\n",
    "\n",
    "    plt.savefig('wikivote.png')\n",
    "    plt.show()"
   ]
  },
  {
   "cell_type": "code",
   "execution_count": null,
   "metadata": {
    "collapsed": true
   },
   "outputs": [],
   "source": []
  }
 ],
 "metadata": {
  "kernelspec": {
   "display_name": "Python 3",
   "language": "python",
   "name": "python3"
  },
  "language_info": {
   "codemirror_mode": {
    "name": "ipython",
    "version": 3
   },
   "file_extension": ".py",
   "mimetype": "text/x-python",
   "name": "python",
   "nbconvert_exporter": "python",
   "pygments_lexer": "ipython3",
   "version": "3.5.0"
  }
 },
 "nbformat": 4,
 "nbformat_minor": 0
}
