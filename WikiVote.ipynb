{
 "cells": [
  {
   "cell_type": "markdown",
   "metadata": {},
   "source": [
    "Wiki-Vote"
   ]
  },
  {
   "cell_type": "code",
   "execution_count": 1,
   "metadata": {
    "collapsed": false
   },
   "outputs": [],
   "source": [
    "from direct_graph import DirectGraph\n",
    "from direct_graph import topk\n",
    "import sys\n",
    "import matplotlib.pyplot as plt\n",
    "\n",
    "def Run_LTM(graph, seeds, rounds, centrality):\n",
    "\tv, e = graph.size()\n",
    "\tprint(\"* running LTM({}) TOP {} {} - graph size: {} {}\".format(rounds, len(seeds), centrality, v, e))\n",
    "\tinfluenced, kept, steps = graph.ltm(seeds, rounds)\n",
    "\tprint(\"** influenced(%d) kept(%d) steps(%d)\" % (len(influenced), len(kept), steps))\n",
    "\treturn len(influenced), len(kept), steps"
   ]
  },
  {
   "cell_type": "code",
   "execution_count": 2,
   "metadata": {
    "collapsed": false
   },
   "outputs": [
    {
     "name": "stdout",
     "output_type": "stream",
     "text": [
      "# Edges = 103689\tAverage Clustering = 0.140898\n",
      "True\n"
     ]
    }
   ],
   "source": [
    "if __name__ == '__main__':\n",
    "    \n",
    "    rounds = 10\n",
    "    seed = 100\n",
    "    graph = DirectGraph.from_filename('wiki-Vote.txt')\n",
    "\n",
    "    print('# Edges = %d\\tAverage Clustering = %f' % (graph.countEdges(), graph.toUndirect().average_clustering()))\n",
    "    sys.stdout.flush()"
   ]
  },
  {
   "cell_type": "code",
   "execution_count": null,
   "metadata": {
    "collapsed": false
   },
   "outputs": [],
   "source": [
    "    print('# Eigenvector Centrality...')\n",
    "    diffsum, cscores = graph.eigenvector_centrality()\n",
    "    # print(diffsum)\n",
    "    # print(cscores)\n",
    "    top_eigenc = [a for a, b in topk(cscores, seed)]\n",
    "    print(top_eigenc)\n",
    "    print('# Done')\n",
    "    sys.stdout.flush()"
   ]
  },
  {
   "cell_type": "code",
   "execution_count": null,
   "metadata": {
    "collapsed": false
   },
   "outputs": [],
   "source": [
    "    print('# Betweennes centrality...')\n",
    "    bet = graph.betweenness()\n",
    "    # print(bet)\n",
    "    top_bet = [a for a, b in topk(bet, seed)]\n",
    "    print(top_bet)\n",
    "    print('# Done')\n",
    "    sys.stdout.flush()"
   ]
  },
  {
   "cell_type": "code",
   "execution_count": null,
   "metadata": {
    "collapsed": false
   },
   "outputs": [],
   "source": [
    "\tprint(\"# Lin's index...\")\n",
    "\tlin = graph.lin_index()\n",
    "\t#print(lin)\n",
    "\ttop_lin = [a for a, b in topk(lin, seed)]\n",
    "\tprint(top_lin)\n",
    "\tprint('# Done')\n",
    "\tsys.stdout.flush()"
   ]
  },
  {
   "cell_type": "code",
   "execution_count": null,
   "metadata": {
    "collapsed": false
   },
   "outputs": [],
   "source": [
    "\tlin_max_values = []\n",
    "\teigenc_max_values = []\n",
    "\tbet_max_values = []\n",
    "\n",
    "\t\n",
    "\tfor i in range(100):\n",
    "\t\tseed = 100\n",
    "\t\tmax_lin_influenced = Run_LTM(graph, top_lin[:seed], rounds, 'Lin')[0]\n",
    "\t\tmax_eigenc_influenced = Run_LTM(graph, top_eigenc[:seed], rounds, 'Eigenvector')[0]\n",
    "\t\tmax_bet_influenced = Run_LTM(graph, top_bet[:seed], rounds, 'Betweenness')[0]\n",
    "\t\tlin_max_seed = seed\n",
    "\t\teigenc_max_seed = seed\n",
    "\t\tbet_max_seed = seed"
   ]
  },
  {
   "cell_type": "code",
   "execution_count": null,
   "metadata": {
    "collapsed": false
   },
   "outputs": [],
   "source": [
    "\t\twhile seed > 0:\n",
    "\t\t\tseed -= 5\n",
    "\t\t\tinfluenced_lin = Run_LTM(graph, top_lin[:seed], rounds, 'Lin')[0]\n",
    "\t\t\tif max_lin_influenced <= influenced_lin:\n",
    "\t\t\t\tmax_lin_influenced = influenced_lin\n",
    "\t\t\t\tlin_max_seed = seed\n",
    "\t\t\telse:\n",
    "\t\t\t\tbreak"
   ]
  },
  {
   "cell_type": "code",
   "execution_count": null,
   "metadata": {
    "collapsed": false
   },
   "outputs": [],
   "source": [
    "\t\tseed = 100\n",
    "\t\twhile seed > 0:\n",
    "\t\t\tseed -= 5\n",
    "\t\t\tinfluenced_eigenc = Run_LTM(graph, top_eigenc[:seed], rounds, 'Eigenvector')[0]\n",
    "\t\t\tif max_eigenc_influenced <= influenced_eigenc:\n",
    "\t\t\t\tmax_eigenc_influenced = influenced_eigenc\n",
    "\t\t\t\teigenc_max_seed = seed\n",
    "\t\t\telse:\n",
    "\t\t\t\tbreak"
   ]
  },
  {
   "cell_type": "code",
   "execution_count": null,
   "metadata": {
    "collapsed": false
   },
   "outputs": [],
   "source": [
    "\t\tseed = 100\n",
    "\t\twhile seed > 0:\n",
    "\t\t\tseed -= 5\n",
    "\t\t\tinfluenced_bet = Run_LTM(graph, top_bet[:seed], rounds, 'Betweenness')[0]\n",
    "\t\t\tif max_bet_influenced <= influenced_bet:\n",
    "\t\t\t\tmax_bet_influenced = influenced_bet\n",
    "\t\t\t\tbet_max_seed = seed\n",
    "\t\t\telse:\n",
    "\t\t\t\tbreak"
   ]
  },
  {
   "cell_type": "code",
   "execution_count": null,
   "metadata": {
    "collapsed": true
   },
   "outputs": [],
   "source": [
    "\t\tlin_max_values.append((lin_max_seed, max_lin_influenced))\n",
    "\t\teigenc_max_values.append((eigenc_max_seed, max_eigenc_influenced))\n",
    "\t\tbet_max_values.append((bet_max_seed, max_bet_influenced))\n",
    "        sys.stdout.flush()"
   ]
  },
  {
   "cell_type": "code",
   "execution_count": null,
   "metadata": {
    "collapsed": false
   },
   "outputs": [],
   "source": [
    "    print('# Lin\\tEigenvector\\tBetweenness')\n",
    "    for x, y, z in zip(lin_max_values, eigenc_max_values, bet_max_values):\n",
    "        print(\"{}-{} {}-{} {}-{}\".format(x[0], x[1], y[0], y[1], z[0], z[1]))\n",
    "\n",
    "    sys.stdout.flush()"
   ]
  },
  {
   "cell_type": "code",
   "execution_count": null,
   "metadata": {
    "collapsed": true
   },
   "outputs": [],
   "source": [
    "%matplotlib inline"
   ]
  },
  {
   "cell_type": "code",
   "execution_count": null,
   "metadata": {
    "collapsed": false
   },
   "outputs": [],
   "source": [
    "    fig, ax = plt.subplots()\n",
    "\n",
    "    bar_width = 0.35\n",
    "\n",
    "    opacity = 0.4\n",
    "\n",
    "    rects1 = plt.bar(1, max_lin_influenced, width=bar_width, alpha=opacity, color='b', label='Lin')\n",
    "\n",
    "    rects2 = plt.bar(2, max_eigenc_influenced, width=bar_width, alpha=opacity, color='r', label='Eigenvector')\n",
    "\n",
    "    rects3 = plt.bar(3, max_bet_influenced, width=bar_width, alpha=opacity, color='y', label='Betweenness')\n",
    "\n",
    "    plt.xlabel('Centrality Measures')\n",
    "    plt.ylabel('Influenced')\n",
    "    plt.title('Influenced Comparison')\n",
    "    plt.xticks([1.2,2.2,3.2], ('L', 'E', 'B'))\n",
    "\n",
    "    plt.legend(bbox_to_anchor=(1.05, 1), loc=2, borderaxespad=0.)\n",
    "\n",
    "    plt.tight_layout()\n",
    "\n",
    "    plt.savefig('wikivote.png')\n",
    "    plt.show()"
   ]
  },
  {
   "cell_type": "code",
   "execution_count": null,
   "metadata": {
    "collapsed": true
   },
   "outputs": [],
   "source": []
  }
 ],
 "metadata": {
  "kernelspec": {
   "display_name": "Python 3",
   "language": "python",
   "name": "python3"
  },
  "language_info": {
   "codemirror_mode": {
    "name": "ipython",
    "version": 3
   },
   "file_extension": ".py",
   "mimetype": "text/x-python",
   "name": "python",
   "nbconvert_exporter": "python",
   "pygments_lexer": "ipython3",
   "version": "3.5.0"
  }
 },
 "nbformat": 4,
 "nbformat_minor": 0
}
