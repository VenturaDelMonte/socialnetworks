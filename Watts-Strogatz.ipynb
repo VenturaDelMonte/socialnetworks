{
 "cells": [
  {
   "cell_type": "code",
   "execution_count": 3,
   "metadata": {
    "collapsed": true
   },
   "outputs": [],
   "source": [
    "from direct_graph import DirectGraph\n",
    "from direct_graph import topk\n",
    "import sys\n",
    "import matplotlib.pyplot as plt\n",
    "import random\n",
    "from datetime import datetime\n",
    "import time\n",
    "import concurrent.futures\n",
    "\n",
    "\n",
    "def Run_LTM(graph, seeds, rounds, centrality):\n",
    "\tv, e = graph.size()\n",
    "\tprint(\"* running LTM({}) TOP {} {} - graph size: {} {}\".format(rounds, len(seeds), centrality, v, e))\n",
    "\tinfluenced, kept, steps = graph.ltm(seeds, rounds)\n",
    "\tprint(\"** influenced(%d) kept(%d) steps(%d)\" % (len(influenced), len(kept), steps))\n",
    "\treturn len(influenced), len(kept), steps\n",
    "\n",
    "random.seed(datetime.now())\t\n",
    "\n",
    "seed = 100\n",
    "\n",
    "lin_max_values = []\n",
    "eigenc_max_values = []\n",
    "bet_max_values = []\n",
    "rounds = 10"
   ]
  },
  {
   "cell_type": "code",
   "execution_count": 4,
   "metadata": {
    "collapsed": false
   },
   "outputs": [
    {
     "name": "stdout",
     "output_type": "stream",
     "text": [
      "# Edges = 86658\tAverage Clustering = 0.345472\n"
     ]
    }
   ],
   "source": [
    "NODES = 7115\n",
    "min_edges = 75000\n",
    "max_edges = 125000\n",
    "incr = 0.001\n",
    "p = 0.001 # probability\n",
    "seed = 100\n",
    "radius = 2\n",
    "weak_ties = [i*5 for i in range(0, 3)]\n",
    "\n",
    "graph, edges = DirectGraph.WS2DGraph(NODES, random.randint(min_edges, max_edges), radius, weak_ties)\n",
    "\n",
    "print('# Edges = %d\\tAverage Clustering = %f' % (graph.countEdges(), graph.average_clustering()))\n",
    "sys.stdout.flush()"
   ]
  },
  {
   "cell_type": "code",
   "execution_count": 5,
   "metadata": {
    "collapsed": false
   },
   "outputs": [
    {
     "name": "stdout",
     "output_type": "stream",
     "text": [
      "# Eigenvector Centrality...\n",
      "[5572, 2234, 2483, 4301, 4048, 545, 6714, 2575, 6874, 1140, 754, 1617, 1645, 1153, 7109, 198, 4641, 2689, 3679, 5994, 6169, 7065, 3410, 6014, 516, 279, 3823, 3186, 2110, 369, 3140, 6231, 142, 1262, 4678, 2391, 2382, 3516, 6317, 1567, 3754, 1533, 4213, 3188, 474, 1738, 1178, 3233, 1116, 3429, 4095, 4102, 5302, 715, 4541, 2982, 914, 2294, 92, 2331, 3032, 2738, 5447, 199, 546, 4688, 1166, 1734, 1393, 5928, 7080, 3824, 7053, 6146, 3354, 2561, 1757, 5206, 4982, 3285, 2756, 442, 6524, 4891, 2642, 5795, 2337, 6607, 3041, 1619, 275, 4937, 1685, 3407, 5599, 2994, 180, 6648, 1494, 6886]\n",
      "# Done\n"
     ]
    }
   ],
   "source": [
    "print('# Eigenvector Centrality...')\n",
    "diffsum, cscores = graph.eigenvector_centrality()\n",
    "# print(diffsum)\n",
    "# print(cscores)\n",
    "top_eigenc = [a for a, b in topk(cscores, seed)]\n",
    "print(top_eigenc)\n",
    "print('# Done')\n",
    "sys.stdout.flush()"
   ]
  },
  {
   "cell_type": "code",
   "execution_count": 6,
   "metadata": {
    "collapsed": false
   },
   "outputs": [
    {
     "name": "stdout",
     "output_type": "stream",
     "text": [
      "# Betweennes centrality...\n",
      "[2300, 5488, 265, 5033, 1248, 4852, 253, 4692, 6890, 1768, 2633, 1887, 1808, 2551, 2932, 3807, 3099, 1948, 1065, 1119, 4648, 6738, 2843, 1984, 2108, 4833, 4023, 2271, 1262, 1755, 1936, 3435, 2575, 2831, 2018, 3495, 784, 7055, 3460, 4098, 1254, 1839, 6005, 4579, 2572, 2605, 2610, 5845, 621, 2467, 4227, 26, 5219, 1602, 730, 6474, 6032, 1312, 5894, 6451, 2041, 1400, 2373, 6458, 3707, 2497, 3456, 4822, 3054, 1827, 5941, 3866, 4494, 1316, 589, 4103, 1100, 6545, 4220, 6414, 1211, 6061, 2529, 4481, 977, 1299, 6516, 1789, 5701, 5452, 5772, 4040, 4973, 4417, 6845, 7049, 2696, 741, 3358, 4970]\n",
      "# Done\n"
     ]
    }
   ],
   "source": [
    "print('# Betweennes centrality...')\n",
    "bet = graph.betweenness()\n",
    "# print(bet)\n",
    "top_bet = [a for a, b in topk(bet, seed)]\n",
    "print(top_bet)\n",
    "print('# Done')\n",
    "sys.stdout.flush()"
   ]
  },
  {
   "cell_type": "code",
   "execution_count": 9,
   "metadata": {
    "collapsed": false
   },
   "outputs": [
    {
     "name": "stdout",
     "output_type": "stream",
     "text": [
      "# Lin's index...\n",
      "[5313, 1134, 7065, 2843, 351, 5275, 3129, 6834, 2300, 4412, 4113, 3679, 2832, 716, 2620, 4215, 2726, 889, 2605, 2887, 6265, 4692, 3278, 1900, 6115, 4040, 6890, 2345, 6952, 2271, 1768, 1660, 4852, 1498, 2551, 2035, 251, 7057, 1097, 4592, 5916, 295, 769, 6873, 3376, 4494, 4854, 1024, 2799, 1226, 1602, 2393, 3807, 5836, 217, 4255, 3575, 3472, 1849, 6569, 5421, 2222, 3104, 1552, 2520, 406, 3517, 6600, 545, 3075, 443, 1418, 3660, 4795, 6879, 3121, 2909, 515, 362, 5922, 4737, 3862, 3327, 4432, 3317, 2589, 6725, 4818, 636, 5293, 3681, 4648, 4751, 5901, 1121, 3378, 6203, 6516, 1312, 4700]\n",
      "# Done\n"
     ]
    }
   ],
   "source": [
    "print(\"# Lin's index...\")\n",
    "lin = graph.lin_index()\n",
    "#print(lin)\n",
    "top_lin = [a for a, b in topk(lin, seed)]\n",
    "print(top_lin)\n",
    "print('# Done')\n",
    "sys.stdout.flush()"
   ]
  },
  {
   "cell_type": "code",
   "execution_count": 10,
   "metadata": {
    "collapsed": false
   },
   "outputs": [
    {
     "name": "stdout",
     "output_type": "stream",
     "text": [
      "* running LTM(10) TOP 100 Lin - graph size: 7115 86658\n",
      "** influenced(5022) kept(2093) steps(6)\n",
      "* running LTM(10) TOP 100 Eigenvector - graph size: 7115 86658\n",
      "** influenced(4979) kept(2136) steps(6)\n",
      "* running LTM(10) TOP 100 Betweenness - graph size: 7115 86658\n",
      "** influenced(4988) kept(2127) steps(6)\n"
     ]
    }
   ],
   "source": [
    "max_lin_influenced = Run_LTM(graph, top_lin[:seed], rounds, 'Lin')[0]\n",
    "max_eigenc_influenced = Run_LTM(graph, top_eigenc[:seed], rounds, 'Eigenvector')[0]\n",
    "max_bet_influenced = Run_LTM(graph, top_bet[:seed], rounds, 'Betweenness')[0]\n",
    "lin_max_seed = seed\n",
    "eigenc_max_seed = seed\n",
    "bet_max_seed = seed"
   ]
  },
  {
   "cell_type": "code",
   "execution_count": 11,
   "metadata": {
    "collapsed": false
   },
   "outputs": [
    {
     "name": "stdout",
     "output_type": "stream",
     "text": [
      "* running LTM(10) TOP 95 Lin - graph size: 7115 86658\n",
      "** influenced(5019) kept(2096) steps(5)\n"
     ]
    }
   ],
   "source": [
    "while seed > 0:\n",
    "    seed -= 5\n",
    "    influenced_lin = Run_LTM(graph, top_lin[:seed], rounds, 'Lin')[0]\n",
    "    if max_lin_influenced <= influenced_lin:\n",
    "        max_lin_influenced = influenced_lin\n",
    "        lin_max_seed = seed\n",
    "    else:\n",
    "        break"
   ]
  },
  {
   "cell_type": "code",
   "execution_count": 12,
   "metadata": {
    "collapsed": false
   },
   "outputs": [
    {
     "name": "stdout",
     "output_type": "stream",
     "text": [
      "* running LTM(10) TOP 95 Eigenvector - graph size: 7115 86658\n",
      "** influenced(4984) kept(2131) steps(6)\n",
      "* running LTM(10) TOP 90 Eigenvector - graph size: 7115 86658\n",
      "** influenced(4983) kept(2132) steps(7)\n"
     ]
    }
   ],
   "source": [
    "seed = 100\n",
    "while seed > 0:\n",
    "    seed -= 5\n",
    "    influenced_eigenc = Run_LTM(graph, top_eigenc[:seed], rounds, 'Eigenvector')[0]\n",
    "    if max_eigenc_influenced <= influenced_eigenc:\n",
    "        max_eigenc_influenced = influenced_eigenc\n",
    "        eigenc_max_seed = seed\n",
    "    else:\n",
    "        break"
   ]
  },
  {
   "cell_type": "code",
   "execution_count": 13,
   "metadata": {
    "collapsed": false
   },
   "outputs": [
    {
     "name": "stdout",
     "output_type": "stream",
     "text": [
      "* running LTM(10) TOP 95 Betweenness - graph size: 7115 86658\n",
      "** influenced(4985) kept(2130) steps(6)\n"
     ]
    }
   ],
   "source": [
    "seed = 100\n",
    "while seed > 0:\n",
    "    seed -= 5\n",
    "    influenced_bet = Run_LTM(graph, top_bet[:seed], rounds, 'Betweenness')[0]\n",
    "    if max_bet_influenced <= influenced_bet:\n",
    "        max_bet_influenced = influenced_bet\n",
    "        bet_max_seed = seed\n",
    "    else:\n",
    "        break"
   ]
  },
  {
   "cell_type": "code",
   "execution_count": 14,
   "metadata": {
    "collapsed": true
   },
   "outputs": [],
   "source": [
    "%matplotlib inline"
   ]
  },
  {
   "cell_type": "code",
   "execution_count": null,
   "metadata": {
    "collapsed": true
   },
   "outputs": [],
   "source": []
  }
 ],
 "metadata": {
  "kernelspec": {
   "display_name": "Python 3",
   "language": "python",
   "name": "python3"
  },
  "language_info": {
   "codemirror_mode": {
    "name": "ipython",
    "version": 3
   },
   "file_extension": ".py",
   "mimetype": "text/x-python",
   "name": "python",
   "nbconvert_exporter": "python",
   "pygments_lexer": "ipython3",
   "version": "3.5.1"
  }
 },
 "nbformat": 4,
 "nbformat_minor": 0
}
