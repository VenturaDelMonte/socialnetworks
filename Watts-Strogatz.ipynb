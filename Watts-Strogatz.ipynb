{
 "cells": [
  {
   "cell_type": "code",
   "execution_count": 1,
   "metadata": {
    "collapsed": true
   },
   "outputs": [],
   "source": [
    "from direct_graph import DirectGraph\n",
    "from direct_graph import topk\n",
    "import sys\n",
    "import matplotlib.pyplot as plt\n",
    "import random\n",
    "from datetime import datetime\n",
    "import time\n",
    "import concurrent.futures\n",
    "\n",
    "\n",
    "def Run_LTM(graph, seeds, rounds, centrality):\n",
    "\tv, e = graph.size()\n",
    "\tprint(\"* running LTM({}) TOP {} {} - graph size: {} {}\".format(rounds, len(seeds), centrality, v, e))\n",
    "\tinfluenced, kept, steps = graph.ltm(seeds, rounds)\n",
    "\tprint(\"** influenced(%d) kept(%d) steps(%d)\" % (len(influenced), len(kept), steps))\n",
    "\treturn len(influenced), len(kept), steps\n",
    "\n",
    "random.seed(datetime.now())\t\n",
    "\n",
    "seed = 100\n",
    "\n",
    "lin_max_values = []\n",
    "eigenc_max_values = []\n",
    "bet_max_values = []\n",
    "rounds = 10"
   ]
  },
  {
   "cell_type": "code",
   "execution_count": 3,
   "metadata": {
    "collapsed": false
   },
   "outputs": [
    {
     "name": "stdout",
     "output_type": "stream",
     "text": [
      "# Edges = 101808\tAverage Clustering = 0.474227\n"
     ]
    }
   ],
   "source": [
    "NODES = 7115\n",
    "min_edges = 75000\n",
    "max_edges = 125000\n",
    "incr = 0.001\n",
    "p = 0.001 # probability\n",
    "seed = 100\n",
    "radius = 2\n",
    "weak_ties = [i*5 for i in range(0, 3)]\n",
    "\n",
    "graph = DirectGraph.WS2DGraph(NODES, random.randint(min_edges, max_edges), radius, weak_ties)\n",
    "\n",
    "print('# Edges = %d\\tAverage Clustering = %f' % (graph.countEdges(), graph.average_clustering()))\n",
    "sys.stdout.flush()"
   ]
  },
  {
   "cell_type": "code",
   "execution_count": 4,
   "metadata": {
    "collapsed": false
   },
   "outputs": [
    {
     "name": "stdout",
     "output_type": "stream",
     "text": [
      "# Eigenvector Centrality...\n",
      "[5034, 3918, 5307, 4214, 455, 520, 4472, 5475, 2378, 3722, 4292, 3011, 4944, 3495, 3380, 3923, 4851, 299, 98, 984, 6743, 2316, 971, 368, 4124, 6023, 1041, 6394, 3084, 5560, 5959, 3226, 3292, 926, 3709, 896, 1489, 846, 1404, 470, 953, 4609, 4075, 2280, 3654, 5978, 5572, 2804, 2338, 6845, 795, 2460, 4602, 2075, 1588, 175, 5777, 1512, 4668, 2607, 2832, 738, 3163, 1781, 6890, 2476, 2428, 327, 6684, 5113, 2893, 594, 33, 6494, 4999, 5111, 4475, 78, 4689, 2345, 1211, 3772, 2678, 7103, 2445, 749, 3340, 1881, 3168, 2814, 3610, 1042, 3716, 3823, 5453, 2397, 4073, 5440, 4677, 1307]\n",
      "# Done\n"
     ]
    }
   ],
   "source": [
    "print('# Eigenvector Centrality...')\n",
    "diffsum, cscores = graph.eigenvector_centrality()\n",
    "# print(diffsum)\n",
    "# print(cscores)\n",
    "top_eigenc = [a for a, b in topk(cscores, seed)]\n",
    "print(top_eigenc)\n",
    "print('# Done')\n",
    "sys.stdout.flush()"
   ]
  },
  {
   "cell_type": "code",
   "execution_count": 5,
   "metadata": {
    "collapsed": false
   },
   "outputs": [
    {
     "name": "stdout",
     "output_type": "stream",
     "text": [
      "# Betweennes centrality...\n",
      "[368, 4554, 1508, 1056, 4796, 3231, 1030, 4374, 4048, 1780, 3042, 376, 6733, 6849, 1937, 1387, 260, 5194, 629, 5158, 3528, 6280, 1534, 2021, 4183, 2438, 5889, 5274, 6912, 793, 3163, 6215, 6715, 105, 3017, 6706, 3372, 6671, 1744, 3748, 1111, 5764, 3774, 6604, 2427, 3189, 3622, 3155, 4472, 2133, 3704, 6743, 5523, 2648, 4205, 4253, 1811, 738, 3242, 2475, 6499, 6519, 6045, 2509, 1812, 4932, 5636, 4609, 6675, 5675, 304, 5734, 2883, 2634, 6419, 2389, 4466, 3881, 3574, 2834, 1818, 5372, 3538, 2454, 1184, 1869, 3050, 7044, 5258, 5730, 6028, 484, 6647, 6154, 6588, 6823, 5488, 5141, 6814, 1066]\n",
      "# Done\n"
     ]
    }
   ],
   "source": [
    "print('# Betweennes centrality...')\n",
    "bet = graph.betweenness()\n",
    "# print(bet)\n",
    "top_bet = [a for a, b in topk(bet, seed)]\n",
    "print(top_bet)\n",
    "print('# Done')\n",
    "sys.stdout.flush()"
   ]
  },
  {
   "cell_type": "code",
   "execution_count": 6,
   "metadata": {
    "collapsed": false
   },
   "outputs": [
    {
     "name": "stdout",
     "output_type": "stream",
     "text": [
      "# Lin's index...\n",
      "[368, 6675, 4554, 945, 5597, 1508, 5959, 485, 3042, 6455, 6552, 1056, 5194, 4841, 6282, 1989, 116, 2344, 5859, 1558, 5063, 5596, 738, 6647, 1489, 6784, 3869, 1780, 6377, 5560, 4407, 1240, 2254, 4999, 6383, 1860, 1257, 6657, 3654, 1659, 6825, 6529, 1843, 5477, 105, 3231, 5161, 6755, 4792, 2620, 3017, 6912, 4482, 4865, 4932, 442, 1030, 160, 1577, 2379, 3292, 1512, 21, 4048, 3881, 6179, 1313, 4910, 3144, 7088, 5636, 6424, 1928, 2389, 4205, 3050, 3159, 1387, 1394, 2769, 4992, 4061, 6045, 3746, 6502, 2427, 6706, 2274, 4626, 2400, 4959, 3528, 4530, 498, 1072, 1067, 4753, 5788, 6707, 6823]\n",
      "# Done\n"
     ]
    }
   ],
   "source": [
    "print(\"# Lin's index...\")\n",
    "lin = graph.lin_index()\n",
    "#print(lin)\n",
    "top_lin = [a for a, b in topk(lin, seed)]\n",
    "print(top_lin)\n",
    "print('# Done')\n",
    "sys.stdout.flush()"
   ]
  },
  {
   "cell_type": "code",
   "execution_count": 7,
   "metadata": {
    "collapsed": false
   },
   "outputs": [
    {
     "name": "stdout",
     "output_type": "stream",
     "text": [
      "* running LTM(10) TOP 100 Lin - graph size: 7115 101808\n",
      "** influenced(5854) kept(1261) steps(5)\n",
      "* running LTM(10) TOP 100 Eigenvector - graph size: 7115 101808\n",
      "** influenced(5840) kept(1275) steps(6)\n",
      "* running LTM(10) TOP 100 Betweenness - graph size: 7115 101808\n",
      "** influenced(5841) kept(1274) steps(6)\n"
     ]
    }
   ],
   "source": [
    "max_lin_influenced = Run_LTM(graph, top_lin[:seed], rounds, 'Lin')[0]\n",
    "max_eigenc_influenced = Run_LTM(graph, top_eigenc[:seed], rounds, 'Eigenvector')[0]\n",
    "max_bet_influenced = Run_LTM(graph, top_bet[:seed], rounds, 'Betweenness')[0]\n",
    "lin_max_seed = seed\n",
    "eigenc_max_seed = seed\n",
    "bet_max_seed = seed"
   ]
  },
  {
   "cell_type": "code",
   "execution_count": 8,
   "metadata": {
    "collapsed": false
   },
   "outputs": [
    {
     "name": "stdout",
     "output_type": "stream",
     "text": [
      "* running LTM(10) TOP 95 Lin - graph size: 7115 101808\n",
      "** influenced(5852) kept(1263) steps(5)\n"
     ]
    }
   ],
   "source": [
    "while seed > 0:\n",
    "    seed -= 5\n",
    "    influenced_lin = Run_LTM(graph, top_lin[:seed], rounds, 'Lin')[0]\n",
    "    if max_lin_influenced <= influenced_lin:\n",
    "        max_lin_influenced = influenced_lin\n",
    "        lin_max_seed = seed\n",
    "    else:\n",
    "        break"
   ]
  },
  {
   "cell_type": "code",
   "execution_count": 9,
   "metadata": {
    "collapsed": false
   },
   "outputs": [
    {
     "name": "stdout",
     "output_type": "stream",
     "text": [
      "* running LTM(10) TOP 95 Eigenvector - graph size: 7115 101808\n",
      "** influenced(5839) kept(1276) steps(6)\n"
     ]
    }
   ],
   "source": [
    "seed = 100\n",
    "while seed > 0:\n",
    "    seed -= 5\n",
    "    influenced_eigenc = Run_LTM(graph, top_eigenc[:seed], rounds, 'Eigenvector')[0]\n",
    "    if max_eigenc_influenced <= influenced_eigenc:\n",
    "        max_eigenc_influenced = influenced_eigenc\n",
    "        eigenc_max_seed = seed\n",
    "    else:\n",
    "        break"
   ]
  },
  {
   "cell_type": "code",
   "execution_count": 10,
   "metadata": {
    "collapsed": false
   },
   "outputs": [
    {
     "name": "stdout",
     "output_type": "stream",
     "text": [
      "* running LTM(10) TOP 95 Betweenness - graph size: 7115 101808\n",
      "** influenced(5839) kept(1276) steps(6)\n"
     ]
    }
   ],
   "source": [
    "seed = 100\n",
    "while seed > 0:\n",
    "    seed -= 5\n",
    "    influenced_bet = Run_LTM(graph, top_bet[:seed], rounds, 'Betweenness')[0]\n",
    "    if max_bet_influenced <= influenced_bet:\n",
    "        max_bet_influenced = influenced_bet\n",
    "        bet_max_seed = seed\n",
    "    else:\n",
    "        break"
   ]
  },
  {
   "cell_type": "code",
   "execution_count": 11,
   "metadata": {
    "collapsed": true
   },
   "outputs": [],
   "source": [
    "%matplotlib inline\n",
    "import matplotlib.pyplot as plt"
   ]
  },
  {
   "cell_type": "code",
   "execution_count": 12,
   "metadata": {
    "collapsed": false
   },
   "outputs": [
    {
     "data": {
      "image/png": "[encoded data removed]",
      "text/plain": [
       "<matplotlib.figure.Figure at 0x2ab93ce90b8>"
      ]
     },
     "metadata": {},
     "output_type": "display_data"
    }
   ],
   "source": [
    "fig, ax = plt.subplots()\n",
    "\n",
    "bar_width = 0.35\n",
    "\n",
    "opacity = 0.4\n",
    "\n",
    "rects1 = plt.bar(1, max_lin_influenced, width=bar_width, alpha=opacity, color='b', label='Lin')\n",
    "\n",
    "rects2 = plt.bar(2, max_eigenc_influenced, width=bar_width, alpha=opacity, color='r', label='Eigenvector')\n",
    "\n",
    "rects3 = plt.bar(3, max_bet_influenced, width=bar_width, alpha=opacity, color='y', label='Betweenness')\n",
    "\n",
    "plt.xlabel('Centrality Measures')\n",
    "plt.ylabel('Influenced')\n",
    "plt.title('Influenced Comparison')\n",
    "plt.xticks([1.2,2.2,3.2], ('L', 'E', 'B'))\n",
    "\n",
    "plt.legend(bbox_to_anchor=(1.05, 1), loc=2, borderaxespad=0.)\n",
    "\n",
    "plt.tight_layout()\n",
    "\n",
    "plt.savefig('ws.png')"
   ]
  },
  {
   "cell_type": "code",
   "execution_count": null,
   "metadata": {
    "collapsed": true
   },
   "outputs": [],
   "source": []
  },
  {
   "cell_type": "code",
   "execution_count": null,
   "metadata": {
    "collapsed": true
   },
   "outputs": [],
   "source": []
  }
 ],
 "metadata": {
  "kernelspec": {
   "display_name": "Python 3",
   "language": "python",
   "name": "python3"
  },
  "language_info": {
   "codemirror_mode": {
    "name": "ipython",
    "version": 3
   },
   "file_extension": ".py",
   "mimetype": "text/x-python",
   "name": "python",
   "nbconvert_exporter": "python",
   "pygments_lexer": "ipython3",
   "version": "3.5.1"
  }
 },
 "nbformat": 4,
 "nbformat_minor": 0
}
