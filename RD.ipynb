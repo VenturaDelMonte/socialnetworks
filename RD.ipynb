{
 "cells": [
  {
   "cell_type": "code",
   "execution_count": 1,
   "metadata": {
    "collapsed": false
   },
   "outputs": [],
   "source": [
    "import dill\n",
    "from direct_graph import DirectedGraph\n",
    "from direct_graph import topk\n",
    "import sys\n",
    "import matplotlib.pyplot as plt\n",
    "import random\n",
    "from datetime import datetime\n",
    "import concurrent.futures\n",
    "import time\n",
    "\n",
    "\n",
    "\n",
    "def Run_LTM(graph, seeds, rounds, centrality):\n",
    "\tv, e = graph.size()\n",
    "\tprint(\"* running LTM({}) TOP {} {} - graph size: {} {}\".format(rounds, len(seeds), centrality, v, e))\n",
    "\tinfluenced, kept, steps = graph.ltm(seeds, rounds)\n",
    "\tprint(\"** influenced(%d) kept(%d) steps(%d)\" % (len(influenced), len(kept), steps))\n",
    "\treturn len(influenced), len(kept), steps\n"
   ]
  },
  {
   "cell_type": "code",
   "execution_count": 2,
   "metadata": {
    "collapsed": true
   },
   "outputs": [],
   "source": [
    "random.seed(datetime.now())\n",
    "seed = 100\n",
    "\n",
    "lin_max_values = []\n",
    "eigenc_max_values = []\n",
    "bet_max_values = []"
   ]
  },
  {
   "cell_type": "code",
   "execution_count": 4,
   "metadata": {
    "collapsed": false
   },
   "outputs": [
    {
     "name": "stdout",
     "output_type": "stream",
     "text": [
      "generating graph with N=7115 p=0.002219695056465389\n",
      "prob=0.002219695056465389 edges=112047\n",
      "# Edges = 112047\tAverage Clustering = 0.009282\n"
     ]
    }
   ],
   "source": [
    "rounds = 10\n",
    "NODES = 7115\n",
    "min_edges = 75000\n",
    "max_edges = 125000\n",
    "incr = 0.001\n",
    "p = random.uniform(0.001, 0.0028) # probability\n",
    "seed = 100\n",
    "graph = None\n",
    "while p > 0:\n",
    "    print(\"generating graph with N={} p={}\".format(NODES, p))\n",
    "    graph = DirectedGraph.randomDirectedGraph(NODES, p)\n",
    "    edges = graph.size()[1]\n",
    "    print(\"prob={} edges={}\".format(p, edges))\n",
    "    if edges >= min_edges and edges <= max_edges:\n",
    "        break\n",
    "    elif edges > max_edges:\n",
    "        p += ((max_edges - edges) / min_edges) * incr\n",
    "    else:\n",
    "        p += ((min_edges - edges) / min_edges) * incr\n",
    "    sys.stdout.flush()\n",
    "\n",
    "print('# Edges = %d\\tAverage Clustering = %f' % (graph.countEdges(), graph.toUndirect().average_clustering()))\n",
    "sys.stdout.flush()"
   ]
  },
  {
   "cell_type": "code",
   "execution_count": null,
   "metadata": {
    "collapsed": false
   },
   "outputs": [],
   "source": [
    "print('# Eigenvector Centrality...')\n",
    "diffsum, cscores = graph.eigenvector_centrality()\n",
    "# print(diffsum)\n",
    "# print(cscores)\n",
    "top_eigenc = [a for a, b in topk(cscores, seed)]\n",
    "print(top_eigenc)\n",
    "print('# Done')\n",
    "sys.stdout.flush()"
   ]
  },
  {
   "cell_type": "code",
   "execution_count": null,
   "metadata": {
    "collapsed": false,
    "scrolled": true
   },
   "outputs": [],
   "source": [
    "print('# Betweennes centrality...')\n",
    "bet = graph.betweenness()\n",
    "# print(bet)\n",
    "top_bet = [a for a, b in topk(bet, seed)]\n",
    "print(top_bet)\n",
    "print('# Done')\n",
    "sys.stdout.flush()"
   ]
  },
  {
   "cell_type": "code",
   "execution_count": null,
   "metadata": {
    "collapsed": false
   },
   "outputs": [],
   "source": [
    "print(\"# Lin's index...\")\n",
    "lin = graph.lin_index()\n",
    "#print(lin)\n",
    "top_lin = [a for a, b in topk(lin, seed)]\n",
    "print(top_lin)\n",
    "print('# Done')\n",
    "sys.stdout.flush()"
   ]
  },
  {
   "cell_type": "code",
   "execution_count": null,
   "metadata": {
    "collapsed": false
   },
   "outputs": [],
   "source": [
    "max_lin_influenced = Run_LTM(graph, top_lin[:seed], rounds, 'Lin')[0]\n",
    "max_eigenc_influenced = Run_LTM(graph, top_eigenc[:seed], rounds, 'Eigenvector')[0]\n",
    "max_bet_influenced = Run_LTM(graph, top_bet[:seed], rounds, 'Betweenness')[0]\n",
    "lin_max_seed = seed\n",
    "eigenc_max_seed = seed\n",
    "bet_max_seed = seed"
   ]
  },
  {
   "cell_type": "code",
   "execution_count": null,
   "metadata": {
    "collapsed": false
   },
   "outputs": [],
   "source": [
    "while seed > 0:\n",
    "    seed -= 5\n",
    "    influenced_lin = Run_LTM(graph, top_lin[:seed], rounds, 'Lin')[0]\n",
    "    if max_lin_influenced <= influenced_lin:\n",
    "        max_lin_influenced = influenced_lin\n",
    "        lin_max_seed = seed\n",
    "    else:\n",
    "        break"
   ]
  },
  {
   "cell_type": "code",
   "execution_count": null,
   "metadata": {
    "collapsed": false
   },
   "outputs": [],
   "source": [
    "seed = 100\n",
    "while seed > 0:\n",
    "    seed -= 5\n",
    "    influenced_eigenc = Run_LTM(graph, top_eigenc[:seed], rounds, 'Eigenvector')[0]\n",
    "    if max_eigenc_influenced <= influenced_eigenc:\n",
    "        max_eigenc_influenced = influenced_eigenc\n",
    "        eigenc_max_seed = seed\n",
    "    else:\n",
    "        break"
   ]
  },
  {
   "cell_type": "code",
   "execution_count": null,
   "metadata": {
    "collapsed": false
   },
   "outputs": [],
   "source": [
    "seed = 100\n",
    "while seed > 0:\n",
    "    seed -= 5\n",
    "    influenced_bet = Run_LTM(graph, top_bet[:seed], rounds, 'Betweenness')[0]\n",
    "    if max_bet_influenced <= influenced_bet:\n",
    "        max_bet_influenced = influenced_bet\n",
    "        bet_max_seed = seed\n",
    "    else:\n",
    "        break"
   ]
  },
  {
   "cell_type": "code",
   "execution_count": null,
   "metadata": {
    "collapsed": false
   },
   "outputs": [],
   "source": [
    "%matplotlib inline"
   ]
  },
  {
   "cell_type": "code",
   "execution_count": null,
   "metadata": {
    "collapsed": false
   },
   "outputs": [],
   "source": [
    "fig, ax = plt.subplots()\n",
    "\n",
    "bar_width = 0.35\n",
    "\n",
    "opacity = 0.4\n",
    "\n",
    "rects1 = plt.bar(1, max_lin_influenced, width=bar_width, alpha=opacity, color='b', label='Lin')\n",
    "\n",
    "rects2 = plt.bar(2, max_eigenc_influenced, width=bar_width, alpha=opacity, color='r', label='Eigenvector')\n",
    "\n",
    "rects3 = plt.bar(3, max_bet_influenced, width=bar_width, alpha=opacity, color='y', label='Betweenness')\n",
    "\n",
    "plt.xlabel('Centrality Measures')\n",
    "plt.ylabel('Influenced')\n",
    "plt.title('Influenced Comparison')\n",
    "plt.xticks([1.2,2.2,3.2], ('L', 'E', 'B'))\n",
    "\n",
    "plt.legend(bbox_to_anchor=(1.05, 1), loc=2, borderaxespad=0.)\n",
    "\n",
    "plt.tight_layout()\n",
    "\n",
    "plt.savefig('rd.png')\n"
   ]
  },
  {
   "cell_type": "code",
   "execution_count": null,
   "metadata": {
    "collapsed": true
   },
   "outputs": [],
   "source": []
  }
 ],
 "metadata": {
  "kernelspec": {
   "display_name": "Python 3",
   "language": "python",
   "name": "python3"
  },
  "language_info": {
   "codemirror_mode": {
    "name": "ipython",
    "version": 3
   },
   "file_extension": ".py",
   "mimetype": "text/x-python",
   "name": "python",
   "nbconvert_exporter": "python",
   "pygments_lexer": "ipython3",
   "version": "3.5.0"
  }
 },
 "nbformat": 4,
 "nbformat_minor": 0
}
