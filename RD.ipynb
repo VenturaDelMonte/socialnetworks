{
 "cells": [
  {
   "cell_type": "code",
   "execution_count": 1,
   "metadata": {
    "collapsed": true
   },
   "outputs": [],
   "source": [
    "import dill\n",
    "from direct_graph import DirectGraph\n",
    "from direct_graph import topk\n",
    "import sys\n",
    "import matplotlib.pyplot as plt\n",
    "import random\n",
    "from datetime import datetime\n",
    "import concurrent.futures\n",
    "import time\n",
    "\n",
    "\n",
    "\n",
    "def Run_LTM(graph, seeds, rounds, centrality):\n",
    "\tv, e = graph.size()\n",
    "\tprint(\"* running LTM({}) TOP {} {} - graph size: {} {}\".format(rounds, len(seeds), centrality, v, e))\n",
    "\tinfluenced, kept, steps = graph.ltm(seeds, rounds)\n",
    "\tprint(\"** influenced(%d) kept(%d) steps(%d)\" % (len(influenced), len(kept), steps))\n",
    "\treturn len(influenced), len(kept), steps\n"
   ]
  },
  {
   "cell_type": "code",
   "execution_count": 2,
   "metadata": {
    "collapsed": true
   },
   "outputs": [],
   "source": [
    "random.seed(datetime.now())\n",
    "seed = 100\n",
    "\n",
    "lin_max_values = []\n",
    "eigenc_max_values = []\n",
    "bet_max_values = []"
   ]
  },
  {
   "cell_type": "code",
   "execution_count": 3,
   "metadata": {
    "collapsed": false
   },
   "outputs": [
    {
     "name": "stdout",
     "output_type": "stream",
     "text": [
      "generating graph with N=7115 p=0.001\n",
      "prob=0.001 edges=101517\n",
      "# Edges = 101517\tAverage Clustering = 0.004078\n"
     ]
    }
   ],
   "source": [
    "rounds = 10\n",
    "NODES = 7115\n",
    "min_edges = 75000\n",
    "max_edges = 125000\n",
    "incr = 0.001\n",
    "p = 0.001 # probability\n",
    "seed = 100\n",
    "graph = None\n",
    "while p > 0:\n",
    "    print(\"generating graph with N={} p={}\".format(NODES, p))\n",
    "    graph = DirectGraph.randomDirectGraph(NODES, p)\n",
    "    edges = graph.size()[1]\n",
    "    print(\"prob={} edges={}\".format(p, edges))\n",
    "    if edges >= min_edges and edges <= max_edges:\n",
    "        break\n",
    "    elif edges > max_edges:\n",
    "        p += ((max_edges - edges) / min_edges) * incr\n",
    "    else:\n",
    "        p += ((min_edges - edges) / min_edges) * incr\n",
    "    sys.stdout.flush()\n",
    "\n",
    "print('# Edges = %d\\tAverage Clustering = %f' % (graph.countEdges(), graph.average_clustering()))\n",
    "sys.stdout.flush()"
   ]
  },
  {
   "cell_type": "code",
   "execution_count": 4,
   "metadata": {
    "collapsed": false
   },
   "outputs": [
    {
     "name": "stdout",
     "output_type": "stream",
     "text": [
      "# Eigenvector Centrality...\n",
      "[2116, 4270, 19, 3025, 6733, 2372, 5304, 6132, 4699, 2084, 5149, 4748, 1954, 2972, 5778, 155, 1583, 1498, 1842, 781, 3732, 2962, 494, 6278, 5790, 5045, 1517, 4685, 5025, 4625, 6024, 6345, 1493, 4538, 999, 5095, 6535, 2934, 5660, 755, 4919, 2031, 2799, 6020, 3041, 4455, 2059, 4073, 3874, 5250, 7053, 3338, 2969, 4722, 6885, 4316, 2000, 4784, 3068, 5775, 2837, 5896, 6938, 2890, 2539, 2208, 5807, 2667, 5663, 7012, 5072, 1228, 1675, 2782, 6753, 1893, 1589, 6765, 2800, 4652, 902, 4184, 4189, 3430, 2610, 4260, 2808, 4258, 4503, 2595, 5483, 4398, 531, 1265, 3465, 1988, 5451, 6475, 3329, 4447]\n",
      "# Done\n"
     ]
    }
   ],
   "source": [
    "print('# Eigenvector Centrality...')\n",
    "diffsum, cscores = graph.eigenvector_centrality()\n",
    "# print(diffsum)\n",
    "# print(cscores)\n",
    "top_eigenc = [a for a, b in topk(cscores, seed)]\n",
    "print(top_eigenc)\n",
    "print('# Done')\n",
    "sys.stdout.flush()"
   ]
  },
  {
   "cell_type": "code",
   "execution_count": 5,
   "metadata": {
    "collapsed": false,
    "scrolled": true
   },
   "outputs": [
    {
     "name": "stdout",
     "output_type": "stream",
     "text": [
      "# Betweennes centrality...\n",
      "[2031, 5645, 2962, 1364, 5149, 4260, 6393, 755, 6164, 3458, 4625, 1498, 6733, 5412, 6148, 290, 140, 191, 1036, 2059, 3338, 1752, 4314, 3041, 4316, 3962, 5396, 359, 4184, 5209, 2959, 4069, 1670, 6902, 19, 4036, 6952, 3329, 6930, 2595, 6200, 2800, 6885, 6128, 4259, 787, 6345, 3950, 4718, 4351, 4345, 2103, 6278, 7065, 4202, 3068, 6944, 6310, 494, 5344, 3084, 2178, 1949, 3769, 999, 4839, 4538, 4865, 4689, 6746, 6354, 6890, 5781, 6186, 2028, 4886, 3290, 4427, 1999, 3719, 137, 4831, 3864, 6435, 5571, 4047, 4701, 5807, 2512, 4699, 4535, 1895, 4039, 6024, 2491, 1432, 5823, 887, 4064, 950]\n",
      "# Done\n"
     ]
    }
   ],
   "source": [
    "print('# Betweennes centrality...')\n",
    "bet = graph.betweenness()\n",
    "# print(bet)\n",
    "top_bet = [a for a, b in topk(bet, seed)]\n",
    "print(top_bet)\n",
    "print('# Done')\n",
    "sys.stdout.flush()"
   ]
  },
  {
   "cell_type": "code",
   "execution_count": 6,
   "metadata": {
    "collapsed": false
   },
   "outputs": [
    {
     "name": "stdout",
     "output_type": "stream",
     "text": [
      "# Lin's index...\n",
      "[5645, 1364, 1670, 1844, 6207, 4627, 4122, 5365, 4658, 3230, 4965, 6148, 120, 6248, 6911, 950, 2932, 359, 2031, 1975, 4718, 1369, 3070, 522, 5249, 2962, 267, 1068, 6393, 3450, 1620, 51, 3864, 191, 4384, 2028, 5559, 6661, 848, 2615, 4546, 2848, 68, 6253, 3553, 2348, 738, 4865, 67, 453, 4202, 7076, 4200, 6146, 3718, 2349, 5744, 4282, 7065, 4689, 4358, 794, 7098, 1168, 6952, 5133, 3487, 1816, 4351, 5054, 5201, 2134, 5477, 2530, 2833, 162, 4175, 2119, 3458, 6562, 1997, 2021, 6930, 1448, 5257, 4801, 1038, 615, 3597, 1721, 627, 5528, 4036, 4000, 6164, 5176, 124, 5464, 6309, 662]\n",
      "# Done\n"
     ]
    }
   ],
   "source": [
    "print(\"# Lin's index...\")\n",
    "lin = graph.lin_index()\n",
    "#print(lin)\n",
    "top_lin = [a for a, b in topk(lin, seed)]\n",
    "print(top_lin)\n",
    "print('# Done')\n",
    "sys.stdout.flush()"
   ]
  },
  {
   "cell_type": "code",
   "execution_count": 7,
   "metadata": {
    "collapsed": false
   },
   "outputs": [
    {
     "name": "stdout",
     "output_type": "stream",
     "text": [
      "* running LTM(10) TOP 100 Lin - graph size: 7115 101517\n",
      "** influenced(7115) kept(0) steps(4)\n",
      "* running LTM(10) TOP 100 Eigenvector - graph size: 7115 101517\n",
      "** influenced(7115) kept(0) steps(5)\n",
      "* running LTM(10) TOP 100 Betweenness - graph size: 7115 101517\n",
      "** influenced(7115) kept(0) steps(4)\n"
     ]
    }
   ],
   "source": [
    "max_lin_influenced = Run_LTM(graph, top_lin[:seed], rounds, 'Lin')[0]\n",
    "max_eigenc_influenced = Run_LTM(graph, top_eigenc[:seed], rounds, 'Eigenvector')[0]\n",
    "max_bet_influenced = Run_LTM(graph, top_bet[:seed], rounds, 'Betweenness')[0]\n",
    "lin_max_seed = seed\n",
    "eigenc_max_seed = seed\n",
    "bet_max_seed = seed"
   ]
  },
  {
   "cell_type": "code",
   "execution_count": 8,
   "metadata": {
    "collapsed": false
   },
   "outputs": [
    {
     "name": "stdout",
     "output_type": "stream",
     "text": [
      "* running LTM(10) TOP 95 Lin - graph size: 7115 101517\n",
      "** influenced(7114) kept(1) steps(4)\n"
     ]
    }
   ],
   "source": [
    "while seed > 0:\n",
    "    seed -= 5\n",
    "    influenced_lin = Run_LTM(graph, top_lin[:seed], rounds, 'Lin')[0]\n",
    "    if max_lin_influenced <= influenced_lin:\n",
    "        max_lin_influenced = influenced_lin\n",
    "        lin_max_seed = seed\n",
    "    else:\n",
    "        break"
   ]
  },
  {
   "cell_type": "code",
   "execution_count": 9,
   "metadata": {
    "collapsed": false
   },
   "outputs": [
    {
     "name": "stdout",
     "output_type": "stream",
     "text": [
      "* running LTM(10) TOP 95 Eigenvector - graph size: 7115 101517\n",
      "** influenced(7114) kept(1) steps(4)\n"
     ]
    }
   ],
   "source": [
    "seed = 100\n",
    "while seed > 0:\n",
    "    seed -= 5\n",
    "    influenced_eigenc = Run_LTM(graph, top_eigenc[:seed], rounds, 'Eigenvector')[0]\n",
    "    if max_eigenc_influenced <= influenced_eigenc:\n",
    "        max_eigenc_influenced = influenced_eigenc\n",
    "        eigenc_max_seed = seed\n",
    "    else:\n",
    "        break"
   ]
  },
  {
   "cell_type": "code",
   "execution_count": 10,
   "metadata": {
    "collapsed": false
   },
   "outputs": [
    {
     "name": "stdout",
     "output_type": "stream",
     "text": [
      "* running LTM(10) TOP 95 Betweenness - graph size: 7115 101517\n",
      "** influenced(7115) kept(0) steps(4)\n",
      "* running LTM(10) TOP 90 Betweenness - graph size: 7115 101517\n",
      "** influenced(7114) kept(1) steps(4)\n"
     ]
    }
   ],
   "source": [
    "seed = 100\n",
    "while seed > 0:\n",
    "    seed -= 5\n",
    "    influenced_bet = Run_LTM(graph, top_bet[:seed], rounds, 'Betweenness')[0]\n",
    "    if max_bet_influenced <= influenced_bet:\n",
    "        max_bet_influenced = influenced_bet\n",
    "        bet_max_seed = seed\n",
    "    else:\n",
    "        break"
   ]
  },
  {
   "cell_type": "code",
   "execution_count": 15,
   "metadata": {
    "collapsed": false
   },
   "outputs": [],
   "source": [
    "%matplotlib inline"
   ]
  },
  {
   "cell_type": "code",
   "execution_count": 16,
   "metadata": {
    "collapsed": false
   },
   "outputs": [
    {
     "data": {
      "image/png": "[encoded data removed]",
      "text/plain": [
       "<matplotlib.figure.Figure at 0x268f2a64400>"
      ]
     },
     "metadata": {},
     "output_type": "display_data"
    }
   ],
   "source": [
    "fig, ax = plt.subplots()\n",
    "\n",
    "bar_width = 0.35\n",
    "\n",
    "opacity = 0.4\n",
    "\n",
    "rects1 = plt.bar(1, max_lin_influenced, width=bar_width, alpha=opacity, color='b', label='Lin')\n",
    "\n",
    "rects2 = plt.bar(2, max_eigenc_influenced, width=bar_width, alpha=opacity, color='r', label='Eigenvector')\n",
    "\n",
    "rects3 = plt.bar(3, max_bet_influenced, width=bar_width, alpha=opacity, color='y', label='Betweenness')\n",
    "\n",
    "plt.xlabel('Centrality Measures')\n",
    "plt.ylabel('Influenced')\n",
    "plt.title('Influenced Comparison')\n",
    "plt.xticks([1.2,2.2,3.2], ('L', 'E', 'B'))\n",
    "\n",
    "plt.legend(bbox_to_anchor=(1.05, 1), loc=2, borderaxespad=0.)\n",
    "\n",
    "plt.tight_layout()\n",
    "\n",
    "plt.savefig('rd.png')\n"
   ]
  },
  {
   "cell_type": "code",
   "execution_count": null,
   "metadata": {
    "collapsed": true
   },
   "outputs": [],
   "source": []
  }
 ],
 "metadata": {
  "kernelspec": {
   "display_name": "Python 3",
   "language": "python",
   "name": "python3"
  },
  "language_info": {
   "codemirror_mode": {
    "name": "ipython",
    "version": 3
   },
   "file_extension": ".py",
   "mimetype": "text/x-python",
   "name": "python",
   "nbconvert_exporter": "python",
   "pygments_lexer": "ipython3",
   "version": "3.5.1"
  }
 },
 "nbformat": 4,
 "nbformat_minor": 0
}
